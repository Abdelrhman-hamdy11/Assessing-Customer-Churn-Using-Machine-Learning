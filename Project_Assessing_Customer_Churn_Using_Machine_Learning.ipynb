{
  "nbformat": 4,
  "nbformat_minor": 0,
  "metadata": {
    "colab": {
      "provenance": []
    },
    "kernelspec": {
      "name": "python3",
      "display_name": "Python 3"
    },
    "language_info": {
      "name": "python"
    }
  },
  "cells": [
    {
      "cell_type": "code",
      "execution_count": 82,
      "metadata": {
        "id": "n954_8kwjYHa"
      },
      "outputs": [],
      "source": [
        "import pandas as pd\n",
        "from sklearn.preprocessing import StandardScaler, OneHotEncoder\n",
        "# OneHotEncoder is not needed if using pd.get_dummies()\n",
        "from sklearn.model_selection import train_test_split\n",
        "from sklearn.linear_model import LogisticRegression\n",
        "from sklearn.ensemble import RandomForestClassifier\n",
        "from sklearn.metrics import classification_report, confusion_matrix, accuracy_score # import accuracy_score\n"
      ]
    },
    {
      "cell_type": "code",
      "source": [
        "# Load data\n",
        "telco_demog = pd.read_csv('telecom_demographics.csv')\n",
        "telco_usage = pd.read_csv('telecom_usage.csv')\n"
      ],
      "metadata": {
        "id": "xDuKf2Mhjnf9"
      },
      "execution_count": 83,
      "outputs": []
    },
    {
      "cell_type": "code",
      "source": [
        "# Join data\n",
        "churn_df = telco_demog.merge(telco_usage, on='customer_id')"
      ],
      "metadata": {
        "id": "AEB6K_fnkCDy"
      },
      "execution_count": 84,
      "outputs": []
    },
    {
      "cell_type": "code",
      "source": [
        "# Identify churn rate\n",
        "churn_rate = churn_df['churn'].value_counts() / len(churn_df)\n",
        "print(churn_rate*100)"
      ],
      "metadata": {
        "colab": {
          "base_uri": "https://localhost:8080/"
        },
        "id": "CTuqppp9kENV",
        "outputId": "5eeb3929-6098-46bd-a852-4c68fa5a1d84"
      },
      "execution_count": 85,
      "outputs": [
        {
          "output_type": "stream",
          "name": "stdout",
          "text": [
            "churn\n",
            "0    79.953846\n",
            "1    20.046154\n",
            "Name: count, dtype: float64\n"
          ]
        }
      ]
    },
    {
      "cell_type": "code",
      "source": [
        "# Identify categorical variables\n",
        "print(churn_df.info())"
      ],
      "metadata": {
        "colab": {
          "base_uri": "https://localhost:8080/"
        },
        "id": "Y6C3Lvp6kG4z",
        "outputId": "e20f3d57-969e-420a-a4bc-ea179c9bb4b6"
      },
      "execution_count": 86,
      "outputs": [
        {
          "output_type": "stream",
          "name": "stdout",
          "text": [
            "<class 'pandas.core.frame.DataFrame'>\n",
            "RangeIndex: 6500 entries, 0 to 6499\n",
            "Data columns (total 14 columns):\n",
            " #   Column              Non-Null Count  Dtype \n",
            "---  ------              --------------  ----- \n",
            " 0   customer_id         6500 non-null   int64 \n",
            " 1   telecom_partner     6500 non-null   object\n",
            " 2   gender              6500 non-null   object\n",
            " 3   age                 6500 non-null   int64 \n",
            " 4   state               6500 non-null   object\n",
            " 5   city                6500 non-null   object\n",
            " 6   pincode             6500 non-null   int64 \n",
            " 7   registration_event  6500 non-null   object\n",
            " 8   num_dependents      6500 non-null   int64 \n",
            " 9   estimated_salary    6500 non-null   int64 \n",
            " 10  calls_made          6500 non-null   int64 \n",
            " 11  sms_sent            6500 non-null   int64 \n",
            " 12  data_used           6500 non-null   int64 \n",
            " 13  churn               6500 non-null   int64 \n",
            "dtypes: int64(9), object(5)\n",
            "memory usage: 711.1+ KB\n",
            "None\n"
          ]
        }
      ]
    },
    {
      "cell_type": "code",
      "source": [
        "churn_df.duplicated().sum()"
      ],
      "metadata": {
        "colab": {
          "base_uri": "https://localhost:8080/"
        },
        "id": "0yzc6BNOkMpe",
        "outputId": "c1670f9a-2fa6-4664-cdaa-c0a3f6bb6961"
      },
      "execution_count": 87,
      "outputs": [
        {
          "output_type": "execute_result",
          "data": {
            "text/plain": [
              "0"
            ]
          },
          "metadata": {},
          "execution_count": 87
        }
      ]
    },
    {
      "cell_type": "code",
      "source": [
        "churn_df.shape"
      ],
      "metadata": {
        "colab": {
          "base_uri": "https://localhost:8080/"
        },
        "id": "V8eXVkOElgPH",
        "outputId": "8bf526db-dee5-4bad-a432-a0c3c6f2381b"
      },
      "execution_count": 88,
      "outputs": [
        {
          "output_type": "execute_result",
          "data": {
            "text/plain": [
              "(6500, 14)"
            ]
          },
          "metadata": {},
          "execution_count": 88
        }
      ]
    },
    {
      "cell_type": "code",
      "source": [
        "# One Hot Encoding for categorical variables\n",
        "churn_df = pd.get_dummies(churn_df, columns=['telecom_partner', 'gender', 'state', 'city'])"
      ],
      "metadata": {
        "id": "tkatQ0WQk-qz"
      },
      "execution_count": 89,
      "outputs": []
    },
    {
      "cell_type": "code",
      "source": [
        "features = churn_df.drop(['customer_id', 'churn','registration_event','pincode'], axis=1)"
      ],
      "metadata": {
        "id": "r39FQbg6l5F_"
      },
      "execution_count": 90,
      "outputs": []
    },
    {
      "cell_type": "code",
      "source": [
        "features.info()"
      ],
      "metadata": {
        "colab": {
          "base_uri": "https://localhost:8080/"
        },
        "id": "JYRhti63l-d8",
        "outputId": "b41320d4-5ae2-4347-a69e-51e318198d76"
      },
      "execution_count": 91,
      "outputs": [
        {
          "output_type": "stream",
          "name": "stdout",
          "text": [
            "<class 'pandas.core.frame.DataFrame'>\n",
            "RangeIndex: 6500 entries, 0 to 6499\n",
            "Data columns (total 46 columns):\n",
            " #   Column                        Non-Null Count  Dtype\n",
            "---  ------                        --------------  -----\n",
            " 0   age                           6500 non-null   int64\n",
            " 1   num_dependents                6500 non-null   int64\n",
            " 2   estimated_salary              6500 non-null   int64\n",
            " 3   calls_made                    6500 non-null   int64\n",
            " 4   sms_sent                      6500 non-null   int64\n",
            " 5   data_used                     6500 non-null   int64\n",
            " 6   telecom_partner_Airtel        6500 non-null   bool \n",
            " 7   telecom_partner_BSNL          6500 non-null   bool \n",
            " 8   telecom_partner_Reliance Jio  6500 non-null   bool \n",
            " 9   telecom_partner_Vodafone      6500 non-null   bool \n",
            " 10  gender_F                      6500 non-null   bool \n",
            " 11  gender_M                      6500 non-null   bool \n",
            " 12  state_Andhra Pradesh          6500 non-null   bool \n",
            " 13  state_Arunachal Pradesh       6500 non-null   bool \n",
            " 14  state_Assam                   6500 non-null   bool \n",
            " 15  state_Bihar                   6500 non-null   bool \n",
            " 16  state_Chhattisgarh            6500 non-null   bool \n",
            " 17  state_Goa                     6500 non-null   bool \n",
            " 18  state_Gujarat                 6500 non-null   bool \n",
            " 19  state_Haryana                 6500 non-null   bool \n",
            " 20  state_Himachal Pradesh        6500 non-null   bool \n",
            " 21  state_Jharkhand               6500 non-null   bool \n",
            " 22  state_Karnataka               6500 non-null   bool \n",
            " 23  state_Kerala                  6500 non-null   bool \n",
            " 24  state_Madhya Pradesh          6500 non-null   bool \n",
            " 25  state_Maharashtra             6500 non-null   bool \n",
            " 26  state_Manipur                 6500 non-null   bool \n",
            " 27  state_Meghalaya               6500 non-null   bool \n",
            " 28  state_Mizoram                 6500 non-null   bool \n",
            " 29  state_Nagaland                6500 non-null   bool \n",
            " 30  state_Odisha                  6500 non-null   bool \n",
            " 31  state_Punjab                  6500 non-null   bool \n",
            " 32  state_Rajasthan               6500 non-null   bool \n",
            " 33  state_Sikkim                  6500 non-null   bool \n",
            " 34  state_Tamil Nadu              6500 non-null   bool \n",
            " 35  state_Telangana               6500 non-null   bool \n",
            " 36  state_Tripura                 6500 non-null   bool \n",
            " 37  state_Uttar Pradesh           6500 non-null   bool \n",
            " 38  state_Uttarakhand             6500 non-null   bool \n",
            " 39  state_West Bengal             6500 non-null   bool \n",
            " 40  city_Bangalore                6500 non-null   bool \n",
            " 41  city_Chennai                  6500 non-null   bool \n",
            " 42  city_Delhi                    6500 non-null   bool \n",
            " 43  city_Hyderabad                6500 non-null   bool \n",
            " 44  city_Kolkata                  6500 non-null   bool \n",
            " 45  city_Mumbai                   6500 non-null   bool \n",
            "dtypes: bool(40), int64(6)\n",
            "memory usage: 558.7 KB\n"
          ]
        }
      ]
    },
    {
      "cell_type": "code",
      "source": [
        "scaler = StandardScaler()\n",
        "features_scaled = scaler.fit_transform(features)"
      ],
      "metadata": {
        "id": "3MlTZOscmM1W"
      },
      "execution_count": 92,
      "outputs": []
    },
    {
      "cell_type": "code",
      "source": [
        "# Target variable\n",
        "target = churn_df['churn']\n",
        "\n",
        "# Splitting the dataset\n",
        "X_train, X_test, y_train, y_test = train_test_split(features_scaled, target, test_size=0.2, random_state=42)\n",
        "\n",
        "# Instantiate the Logistic Regression\n",
        "logreg = LogisticRegression(random_state=42)\n",
        "logreg.fit(X_train, y_train)\n",
        "\n",
        "# Logistic Regression predictions\n",
        "logreg_pred = logreg.predict(X_test)\n",
        "\n",
        "# Logistic Regression evaluation\n",
        "print(confusion_matrix(y_test, logreg_pred))\n",
        "print(classification_report(y_test, logreg_pred))\n",
        "print(f\"Logistic Regrssion Accuracy: {accuracy_score(y_test, logreg_pred)*100}\")"
      ],
      "metadata": {
        "colab": {
          "base_uri": "https://localhost:8080/"
        },
        "id": "6yZJlvIgmwu7",
        "outputId": "2b4078a0-bb8c-4ed7-b0f8-8d86f2115fa9"
      },
      "execution_count": 93,
      "outputs": [
        {
          "output_type": "stream",
          "name": "stdout",
          "text": [
            "[[1027    0]\n",
            " [ 273    0]]\n",
            "              precision    recall  f1-score   support\n",
            "\n",
            "           0       0.79      1.00      0.88      1027\n",
            "           1       0.00      0.00      0.00       273\n",
            "\n",
            "    accuracy                           0.79      1300\n",
            "   macro avg       0.40      0.50      0.44      1300\n",
            "weighted avg       0.62      0.79      0.70      1300\n",
            "\n",
            "Logistic Regrssion Accuracy: 79.0\n"
          ]
        },
        {
          "output_type": "stream",
          "name": "stderr",
          "text": [
            "/usr/local/lib/python3.11/dist-packages/sklearn/metrics/_classification.py:1565: UndefinedMetricWarning: Precision is ill-defined and being set to 0.0 in labels with no predicted samples. Use `zero_division` parameter to control this behavior.\n",
            "  _warn_prf(average, modifier, f\"{metric.capitalize()} is\", len(result))\n",
            "/usr/local/lib/python3.11/dist-packages/sklearn/metrics/_classification.py:1565: UndefinedMetricWarning: Precision is ill-defined and being set to 0.0 in labels with no predicted samples. Use `zero_division` parameter to control this behavior.\n",
            "  _warn_prf(average, modifier, f\"{metric.capitalize()} is\", len(result))\n",
            "/usr/local/lib/python3.11/dist-packages/sklearn/metrics/_classification.py:1565: UndefinedMetricWarning: Precision is ill-defined and being set to 0.0 in labels with no predicted samples. Use `zero_division` parameter to control this behavior.\n",
            "  _warn_prf(average, modifier, f\"{metric.capitalize()} is\", len(result))\n"
          ]
        }
      ]
    },
    {
      "cell_type": "code",
      "source": [
        "# Instantiate the Random Forest model\n",
        "rf = RandomForestClassifier(random_state=42)\n",
        "rf.fit(X_train, y_train)\n",
        "\n",
        "# Random Forest predictions\n",
        "rf_pred = rf.predict(X_test)\n",
        "\n",
        "# Random Forest evaluation\n",
        "print(confusion_matrix(y_test, rf_pred))\n",
        "print(classification_report(y_test, rf_pred))\n",
        "print(f\"Random Forest Accuracy: {accuracy_score(y_test, rf_pred)*100}\")"
      ],
      "metadata": {
        "colab": {
          "base_uri": "https://localhost:8080/"
        },
        "id": "O3IhA5jknJpH",
        "outputId": "e5b525a1-1ba5-4d82-e1bd-d9a530074490"
      },
      "execution_count": 94,
      "outputs": [
        {
          "output_type": "stream",
          "name": "stdout",
          "text": [
            "[[1027    0]\n",
            " [ 273    0]]\n",
            "              precision    recall  f1-score   support\n",
            "\n",
            "           0       0.79      1.00      0.88      1027\n",
            "           1       0.00      0.00      0.00       273\n",
            "\n",
            "    accuracy                           0.79      1300\n",
            "   macro avg       0.40      0.50      0.44      1300\n",
            "weighted avg       0.62      0.79      0.70      1300\n",
            "\n",
            "Random Forest Accuracy: 79.0\n"
          ]
        },
        {
          "output_type": "stream",
          "name": "stderr",
          "text": [
            "/usr/local/lib/python3.11/dist-packages/sklearn/metrics/_classification.py:1565: UndefinedMetricWarning: Precision is ill-defined and being set to 0.0 in labels with no predicted samples. Use `zero_division` parameter to control this behavior.\n",
            "  _warn_prf(average, modifier, f\"{metric.capitalize()} is\", len(result))\n",
            "/usr/local/lib/python3.11/dist-packages/sklearn/metrics/_classification.py:1565: UndefinedMetricWarning: Precision is ill-defined and being set to 0.0 in labels with no predicted samples. Use `zero_division` parameter to control this behavior.\n",
            "  _warn_prf(average, modifier, f\"{metric.capitalize()} is\", len(result))\n",
            "/usr/local/lib/python3.11/dist-packages/sklearn/metrics/_classification.py:1565: UndefinedMetricWarning: Precision is ill-defined and being set to 0.0 in labels with no predicted samples. Use `zero_division` parameter to control this behavior.\n",
            "  _warn_prf(average, modifier, f\"{metric.capitalize()} is\", len(result))\n"
          ]
        }
      ]
    },
    {
      "cell_type": "code",
      "source": [
        "from sklearn.neighbors import KNeighborsClassifier\n",
        "\n",
        "knn = KNeighborsClassifier(n_neighbors=60) # You can adjust the number of neighbors\n",
        "knn.fit(X_train, y_train)\n",
        "\n",
        "# Make predictions\n",
        "knn_pred = knn.predict(X_test)\n",
        "\n",
        "# Evaluate the model\n",
        "print(confusion_matrix(y_test, knn_pred))\n",
        "print(classification_report(y_test, knn_pred))\n",
        "print(f\"KNN Accuracy: {accuracy_score(y_test, knn_pred) * 100}\")"
      ],
      "metadata": {
        "colab": {
          "base_uri": "https://localhost:8080/"
        },
        "id": "UZ3YydsqoNRn",
        "outputId": "7b3bce94-deac-490d-e610-fd7f8bf8f5fb"
      },
      "execution_count": 95,
      "outputs": [
        {
          "output_type": "stream",
          "name": "stdout",
          "text": [
            "[[1027    0]\n",
            " [ 273    0]]\n",
            "              precision    recall  f1-score   support\n",
            "\n",
            "           0       0.79      1.00      0.88      1027\n",
            "           1       0.00      0.00      0.00       273\n",
            "\n",
            "    accuracy                           0.79      1300\n",
            "   macro avg       0.40      0.50      0.44      1300\n",
            "weighted avg       0.62      0.79      0.70      1300\n",
            "\n",
            "KNN Accuracy: 79.0\n"
          ]
        },
        {
          "output_type": "stream",
          "name": "stderr",
          "text": [
            "/usr/local/lib/python3.11/dist-packages/sklearn/metrics/_classification.py:1565: UndefinedMetricWarning: Precision is ill-defined and being set to 0.0 in labels with no predicted samples. Use `zero_division` parameter to control this behavior.\n",
            "  _warn_prf(average, modifier, f\"{metric.capitalize()} is\", len(result))\n",
            "/usr/local/lib/python3.11/dist-packages/sklearn/metrics/_classification.py:1565: UndefinedMetricWarning: Precision is ill-defined and being set to 0.0 in labels with no predicted samples. Use `zero_division` parameter to control this behavior.\n",
            "  _warn_prf(average, modifier, f\"{metric.capitalize()} is\", len(result))\n",
            "/usr/local/lib/python3.11/dist-packages/sklearn/metrics/_classification.py:1565: UndefinedMetricWarning: Precision is ill-defined and being set to 0.0 in labels with no predicted samples. Use `zero_division` parameter to control this behavior.\n",
            "  _warn_prf(average, modifier, f\"{metric.capitalize()} is\", len(result))\n"
          ]
        }
      ]
    },
    {
      "cell_type": "code",
      "source": [
        "from xgboost import XGBClassifier\n",
        "\n",
        "xgb_model = XGBClassifier(random_state=42) # You can tune hyperparameters here\n",
        "\n",
        "# Train the model\n",
        "xgb_model.fit(X_train, y_train)\n",
        "\n",
        "# Make predictions\n",
        "xgb_pred = xgb_model.predict(X_test)\n",
        "\n",
        "# Evaluate the model\n",
        "print(confusion_matrix(y_test, xgb_pred))\n",
        "print(classification_report(y_test, xgb_pred))\n",
        "print(f\"XGBoost Accuracy: {accuracy_score(y_test, xgb_pred) * 100}\")\n",
        "\n"
      ],
      "metadata": {
        "colab": {
          "base_uri": "https://localhost:8080/"
        },
        "id": "2fK1hDY7oOss",
        "outputId": "2e61872e-a75a-49fb-ff84-fb8fad8a49ed"
      },
      "execution_count": 96,
      "outputs": [
        {
          "output_type": "stream",
          "name": "stdout",
          "text": [
            "[[983  44]\n",
            " [264   9]]\n",
            "              precision    recall  f1-score   support\n",
            "\n",
            "           0       0.79      0.96      0.86      1027\n",
            "           1       0.17      0.03      0.06       273\n",
            "\n",
            "    accuracy                           0.76      1300\n",
            "   macro avg       0.48      0.50      0.46      1300\n",
            "weighted avg       0.66      0.76      0.69      1300\n",
            "\n",
            "XGBoost Accuracy: 76.3076923076923\n"
          ]
        }
      ]
    },
    {
      "cell_type": "code",
      "source": [],
      "metadata": {
        "id": "wfJxwhjIsAyR"
      },
      "execution_count": null,
      "outputs": []
    }
  ]
}